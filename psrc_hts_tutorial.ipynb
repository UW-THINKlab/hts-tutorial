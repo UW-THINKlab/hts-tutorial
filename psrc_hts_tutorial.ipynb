{
 "cells": [
  {
   "cell_type": "markdown",
   "metadata": {},
   "source": [
    "# Puget Sound Regional Council Household Travel Survey (PSRC HTS) Tutorial\n",
    "\n",
    "PSRC is the metroplitan planning organization (MPO) that spans King, Kitsap, Pierce and Snohomish County in Washington State. Every few years, they conduct a regional household travel survey collecting both socioedmographic and travel behavior data of a small sample of individuals in the region.\n",
    "\n",
    "Please obtain the PSRC HTS data from their website for the persons, household, and trips level. Additional information is available for further reading.\n",
    "https://household-travel-survey-psregcncl.hub.arcgis.com/\n",
    "\n",
    "Surveys are collected either via a smartphone app or online. Additional trace data is generated from the smartphone survey (only available 2017/2019). Online survey data generates rough O/D lat/lon information (available for 2017, 2019, and 2021).\n"
   ]
  },
  {
   "cell_type": "markdown",
   "metadata": {},
   "source": [
    "## Step 1: Read in datasets"
   ]
  },
  {
   "cell_type": "markdown",
   "metadata": {},
   "source": [
    "**Trips:** trip-level information, such as depart/arrival time, origin/dest purpose, O/D census tracts, length of trip, speed, mode, etc.\n",
    "\n",
    "**Persons:** person-level information, such as age, race, gender, employment status, industry, etc. \n",
    "\n",
    "**Households:** household-level information, such as size, number of children, lifecycle, location of home, attiudinal characteristics, etc.\n",
    "\n",
    "See the codebook (at above link) for all available variables and decoding."
   ]
  },
  {
   "cell_type": "code",
   "execution_count": 1,
   "metadata": {},
   "outputs": [],
   "source": [
    "import pandas as pd\n",
    "import numpy as np\n",
    "import matplotlib.pyplot as plt\n",
    "import seaborn as sns\n",
    "from datetime import datetime\n",
    "from statsmodels.stats.weightstats import DescrStatsW\n",
    "import geopandas as gpd\n",
    "from shapely.geometry import Point\n",
    "import requests\n",
    "from pyproj import CRS\n",
    "import geopy.distance\n",
    "import math"
   ]
  },
  {
   "cell_type": "code",
   "execution_count": 2,
   "metadata": {},
   "outputs": [
    {
     "name": "stderr",
     "output_type": "stream",
     "text": [
      "/var/folders/mg/5x982c514sl0dc5v1pd9gj580000gn/T/ipykernel_3095/1582395391.py:3: DtypeWarning: Columns (5,8,25,31,32,33,34,35,36,37,38,39,40,41,42,43,44,45,46,47,52,68,69,73,75,76,86,87,88,89,90,91,92,93,94,95,96,100,101,102,103,104,105,106,107,108,109,110,111,112,113,114,115,130,131,132,133,134,135,136,137,138,139,140,142,154) have mixed types. Specify dtype option on import or set low_memory=False.\n",
      "  trips = pd.read_csv(\"data/Household_Travel_Survey_Trips.csv\")\n",
      "/var/folders/mg/5x982c514sl0dc5v1pd9gj580000gn/T/ipykernel_3095/1582395391.py:4: DtypeWarning: Columns (1,3,7,23,33,34,35,36,37,38,39,40,41,42,43,44,45,46,47,48,49,50,77,78,81,84,85,95,96,97,98,99,100,101,102,103,104,105,109,110,111,112,113,114,115,116,117,118,119,120,121,122,123,124,135,136,137,138,139,140,141,142,143,144,145,146) have mixed types. Specify dtype option on import or set low_memory=False.\n",
      "  persons = pd.read_csv(\"data/Household_Travel_Survey_Persons.csv\")\n"
     ]
    }
   ],
   "source": [
    "# load datasets\n",
    "# download these fro PSRC's website\n",
    "trips = pd.read_csv(\"data/Household_Travel_Survey_Trips.csv\")\n",
    "persons = pd.read_csv(\"data/Household_Travel_Survey_Persons.csv\")\n",
    "households = pd.read_csv(\"data/Household_Travel_Survey_Households.csv\")\n",
    "\n",
    "# download this from github-- PRIVATE\n",
    "od = pd.read_csv(\"data/od_data/trips_2017_2019_2021_locations.csv\")"
   ]
  },
  {
   "cell_type": "code",
   "execution_count": 3,
   "metadata": {},
   "outputs": [
    {
     "name": "stdout",
     "output_type": "stream",
     "text": [
      "household_id\n",
      "hhgroup\n",
      "survey_year\n",
      "sample_source\n",
      "seattle_home\n",
      "hh_race_category\n",
      "sample_segment\n",
      "cityofseattle\n",
      "final_home_puma10\n",
      "final_home_uvnum\n",
      "hhsize\n",
      "vehicle_count\n",
      "lifecycle\n",
      "hhincome_broad\n",
      "hhincome_detailed\n",
      "car_share\n",
      "rent_own\n",
      "res_dur\n",
      "res_type\n",
      "prev_home_wa\n",
      "res_factors_30min\n",
      "res_factors_afford\n",
      "res_factors_closefam\n",
      "res_factors_hhchange\n",
      "res_factors_hwy\n",
      "res_factors_school\n",
      "res_factors_space\n",
      "res_factors_transit\n",
      "res_factors_walk\n",
      "numadults\n",
      "numchildren\n",
      "numworkers\n",
      "offpark_cost\n",
      "prev_res_factors_housing_cost\n",
      "prev_res_factors_income_change\n",
      "prev_res_factors_community_chan\n",
      "prev_res_factors_hh_size\n",
      "prev_res_factors_more_space\n",
      "prev_res_factors_less_space\n",
      "prev_res_factors_employment\n",
      "prev_res_factors_school\n",
      "prev_res_factors_crime\n",
      "prev_res_factors_quality\n",
      "prev_res_factors_forced\n",
      "prev_res_factors_no_answer\n",
      "prev_res_factors_other\n",
      "prev_res_factors_specify\n",
      "prev_res_factors_covid_flexibil\n",
      "prev_res_factors_covid_health\n",
      "broadband\n",
      "industry\n",
      "person_id\n",
      "age\n",
      "age_category\n",
      "gender\n",
      "employment\n",
      "jobs_count\n",
      "student\n",
      "schooltype\n",
      "education\n",
      "license\n",
      "vehicleused\n",
      "workplace\n",
      "race_afam\n",
      "race_asian\n",
      "race_hapi\n",
      "race_aiak\n",
      "race_hisp\n",
      "race_other\n",
      "race_white\n",
      "race_noanswer\n",
      "race_category\n",
      "hours_work\n",
      "commute_freq\n",
      "commute_mode\n",
      "commute_dur\n",
      "telecommute_freq\n",
      "work_park_type\n",
      "workpass\n",
      "work_county\n",
      "work_rgcname\n",
      "prev_work_county\n",
      "prev_work_puma10\n",
      "prev_work_tract10\n",
      "prev_work_notwa_state\n",
      "prev_work_notwa_notus\n",
      "school_loc_county\n",
      "school_puma10\n",
      "school_tract10\n",
      "school_rgcname\n",
      "mode_freq_1\n",
      "mode_freq_2\n",
      "mode_freq_3\n",
      "mode_freq_4\n",
      "mode_freq_5\n",
      "tran_pass_1\n",
      "tran_pass_2\n",
      "tran_pass_3\n",
      "tran_pass_4\n",
      "tran_pass_5\n",
      "tran_pass_6\n",
      "tran_pass_7\n",
      "tran_pass_8\n",
      "tran_pass_9\n",
      "tran_pass_10\n",
      "tran_pass_11\n",
      "benefits_1\n",
      "benefits_2\n",
      "benefits_3\n",
      "benefits_4\n",
      "av_interest_1\n",
      "av_interest_2\n",
      "av_interest_3\n",
      "av_interest_4\n",
      "av_interest_5\n",
      "av_interest_6\n",
      "av_interest_7\n",
      "av_concern_1\n",
      "av_concern_2\n",
      "av_concern_3\n",
      "av_concern_4\n",
      "av_concern_5\n",
      "wbt_transitmore_1\n",
      "wbt_transitmore_2\n",
      "wbt_transitmore_3\n",
      "wbt_bikemore_1\n",
      "wbt_bikemore_2\n",
      "wbt_bikemore_3\n",
      "wbt_bikemore_4\n",
      "wbt_bikemore_5\n",
      "commute_auto_time\n",
      "commute_auto_distance\n",
      "work_tract10\n",
      "work_puma10\n",
      "worker\n",
      "employment_pre_covid\n",
      "commute_freq_pre_covid\n",
      "commute_mode_pre_covid\n",
      "telecommute_freq_pre_covid\n",
      "school_travel_last_week\n",
      "employment_change_employer\n",
      "employment_change_location\n",
      "employment_change_new_job\n",
      "employment_change_laid_off\n",
      "employment_change_left_workforc\n",
      "employment_change_none\n",
      "workplace_pre_covid\n",
      "hh_weight_2021\n",
      "person_adult_weight_2021\n",
      "person_respondent_weight_2021\n",
      "hh_weight_2017\n",
      "hh_weight_2019\n",
      "hh_weight_2017_2019\n",
      "hh_weight_2017_2019_adult\n",
      "ObjectId\n"
     ]
    }
   ],
   "source": [
    "# what information do we have?\n",
    "for col in persons.columns: print(col)"
   ]
  },
  {
   "cell_type": "markdown",
   "metadata": {},
   "source": [
    "# Step 2: Clean data\n",
    "\n",
    "#### What do we need to clean?\n",
    "- Outliers (travel time, spatial)\n",
    "- Research-question specific (weekend data, specific trip purposes, etc.)\n",
    "- Missing/no repsonse "
   ]
  },
  {
   "cell_type": "code",
   "execution_count": 4,
   "metadata": {},
   "outputs": [
    {
     "data": {
      "text/plain": [
       "1    0.403038\n",
       "4    0.107687\n",
       "5    0.105821\n",
       "3    0.102661\n",
       "2    0.099428\n",
       "7    0.092138\n",
       "6    0.089139\n",
       "0    0.000088\n",
       "Name: daynum, dtype: float64"
      ]
     },
     "execution_count": 4,
     "metadata": {},
     "output_type": "execute_result"
    }
   ],
   "source": [
    "# let's check weekend data. codebook say 1 is Monday, 7 is Sunday.\n",
    "trips.daynum.value_counts(normalize=True)"
   ]
  },
  {
   "cell_type": "markdown",
   "metadata": {},
   "source": [
    "Looks like our weekend trips are underrepresented, only accounting for ~18% of the data (assuming people make equal trips each day, ~28.6% would be representative).\n",
    "\n",
    "Let's see how travel time looks..."
   ]
  },
  {
   "cell_type": "code",
   "execution_count": 5,
   "metadata": {},
   "outputs": [
    {
     "data": {
      "text/plain": [
       "<matplotlib.lines.Line2D at 0x7fb24eae0520>"
      ]
     },
     "execution_count": 5,
     "metadata": {},
     "output_type": "execute_result"
    },
    {
     "data": {
      "image/png": "[encoded data removed]",
      "text/plain": [
       "<Figure size 432x288 with 1 Axes>"
      ]
     },
     "metadata": {
      "needs_background": "light"
     },
     "output_type": "display_data"
    }
   ],
   "source": [
    "sns.histplot(trips.travel_time)\n",
    "plt.xlim(0, 200)\n",
    "plt.xlabel(\"Travel Time (minutes)\")\n",
    "plt.title(f\"Distribution of Travel Times (n={len(trips)})\")\n",
    "plt.axvline(trips.travel_time.mean(), color='red', linestyle='dashed', linewidth=1)\n",
    "\n",
    "# note: this is UNWEIGHTED and should not be interpreted for region-wide analysis"
   ]
  },
  {
   "cell_type": "code",
   "execution_count": 6,
   "metadata": {},
   "outputs": [
    {
     "data": {
      "text/plain": [
       "count    72850.00000\n",
       "mean        20.56950\n",
       "std         49.17555\n",
       "min          0.00000\n",
       "25%          6.30000\n",
       "50%         12.10000\n",
       "75%         22.37500\n",
       "max       4646.20000\n",
       "Name: travel_time, dtype: float64"
      ]
     },
     "execution_count": 6,
     "metadata": {},
     "output_type": "execute_result"
    }
   ],
   "source": [
    "trips.travel_time.describe()"
   ]
  },
  {
   "cell_type": "markdown",
   "metadata": {},
   "source": [
    "Looks like we have a pretty long tail of travel times. Also notice some respondent bias-- people tend to think of their travel time in intervals of five. \n",
    "\n",
    "Since a lot of accessibility/mobility metrics can be derived from travel time, let's check the quality of the data."
   ]
  },
  {
   "cell_type": "code",
   "execution_count": 7,
   "metadata": {},
   "outputs": [
    {
     "data": {
      "text/plain": [
       "False    72850\n",
       "True     63229\n",
       "Name: travel_time, dtype: int64"
      ]
     },
     "execution_count": 7,
     "metadata": {},
     "output_type": "execute_result"
    }
   ],
   "source": [
    "# check for missing values\n",
    "trips.travel_time.isna().value_counts() # uh oh, 63,000 missing values?????"
   ]
  },
  {
   "cell_type": "code",
   "execution_count": 8,
   "metadata": {},
   "outputs": [
    {
     "name": "stdout",
     "output_type": "stream",
     "text": [
      "False    136073\n",
      "True          6\n",
      "Name: arrival_time_string, dtype: int64 \n",
      "\n",
      "False    136059\n",
      "True         20\n",
      "Name: depart_time_string, dtype: int64\n"
     ]
    }
   ],
   "source": [
    "# are we missing as many datetime strings?\n",
    "print(trips.arrival_time_string.isna().value_counts(), '\\n') # looks a lot better, only 6 missing\n",
    "print(trips.depart_time_string.isna().value_counts()) # only 20 missing\n"
   ]
  },
  {
   "cell_type": "code",
   "execution_count": 9,
   "metadata": {},
   "outputs": [],
   "source": [
    "# let's drop the missing datetime strings\n",
    "trips_clean = trips.dropna(subset=['depart_time_string', 'arrival_time_string']) # this only drops 23 observations"
   ]
  },
  {
   "cell_type": "code",
   "execution_count": 10,
   "metadata": {},
   "outputs": [],
   "source": [
    "# let's manually calculate them using the start and end times. this way we can preserve many more observations.\n",
    "\n",
    "def travel_time_manual(row):\n",
    "    ''' \n",
    "    function to calculate travel time from datetime arrival/depart strings.\n",
    "    input: row of dataframe\n",
    "    output: travel time in minutes\n",
    "    '''\n",
    "    date_str_arr = row.arrival_time_string[:-1]\n",
    "    date_str_dep = row.depart_time_string[:-1]\n",
    "    date_format = \"Date: %Y-%m-%d %H:%M:%S.%f\"\n",
    "\n",
    "    # convert string to datetime object\n",
    "    dt_object_arr = datetime.strptime(date_str_arr, date_format)\n",
    "    dt_object_dep = datetime.strptime(date_str_dep, date_format)\n",
    "    \n",
    "    # calculate travel time\n",
    "    delta_time = abs(dt_object_arr - dt_object_dep)\n",
    "    travel_time_mins = delta_time.total_seconds()/60\n",
    "\n",
    "    return travel_time_mins"
   ]
  },
  {
   "cell_type": "code",
   "execution_count": 11,
   "metadata": {},
   "outputs": [
    {
     "name": "stderr",
     "output_type": "stream",
     "text": [
      "/var/folders/mg/5x982c514sl0dc5v1pd9gj580000gn/T/ipykernel_3095/548063521.py:1: SettingWithCopyWarning: \n",
      "A value is trying to be set on a copy of a slice from a DataFrame.\n",
      "Try using .loc[row_indexer,col_indexer] = value instead\n",
      "\n",
      "See the caveats in the documentation: https://pandas.pydata.org/pandas-docs/stable/user_guide/indexing.html#returning-a-view-versus-a-copy\n",
      "  trips_clean.loc[:, \"travel_time_calc\"] = trips_clean.apply(travel_time_manual, axis=1)\n"
     ]
    }
   ],
   "source": [
    "trips_clean.loc[:, \"travel_time_calc\"] = trips_clean.apply(travel_time_manual, axis=1)"
   ]
  },
  {
   "cell_type": "code",
   "execution_count": 12,
   "metadata": {},
   "outputs": [
    {
     "data": {
      "text/plain": [
       "False    136056\n",
       "Name: travel_time_calc, dtype: int64"
      ]
     },
     "execution_count": 12,
     "metadata": {},
     "output_type": "execute_result"
    }
   ],
   "source": [
    "trips_clean.travel_time_calc.isna().value_counts() # no missing values"
   ]
  },
  {
   "cell_type": "markdown",
   "metadata": {},
   "source": [
    "\n",
    "To create a final, cleaned dataset, let's say we want to look at just workday trips. We can assume that a \"normal\" trip is under 2 hours (adjust this for your purposes) since people need to go to schoo/work."
   ]
  },
  {
   "cell_type": "code",
   "execution_count": 13,
   "metadata": {},
   "outputs": [],
   "source": [
    "# filter dataset\n",
    "trips_clean = trips_clean[(trips_clean.travel_time_calc < 120) & (trips_clean.daynum.isin([1,2,3,4,5]))]"
   ]
  },
  {
   "cell_type": "code",
   "execution_count": 14,
   "metadata": {},
   "outputs": [
    {
     "name": "stdout",
     "output_type": "stream",
     "text": [
      "81.02% of the original dataset is retained after filtering.\n"
     ]
    }
   ],
   "source": [
    "# how much is retained?\n",
    "print(f\"{len(trips_clean)/len(trips)*100:.2f}% of the original dataset is retained after filtering.\")"
   ]
  },
  {
   "cell_type": "markdown",
   "metadata": {},
   "source": [
    "# Step 3. Summary Statistics\n",
    "\n",
    "Ok, so the above give us an idea of the *sample* behaviors, but how can we generalize this to the entire Puget Sound region?\n",
    "- Survey weights!\n",
    "    - Generally, apply weights to each year. See codebook for more detail.\n",
    "    - Note: survey weights are used so that the sampled individuals match ACS data, and that trip modes/purposes are representative. Read more here: https://www.psrc.org/media/3631\n",
    "\n",
    "Using survey weights, we can make accurate comparisons between years when describing our data. Weights are needed for things such as visualizations and summary statistics, but not for models (since in models we want to understand relationships, which does not require representativeness).\n",
    "\n",
    "\n",
    "\n",
    "Here's a cheatsheet for weighting:\n",
    "| Summary level | 2017 | 2019 | 2017/2019 | 2021\n",
    "| --- | --- | --- | --- | --- |\n",
    "| Household | hh_weight_2017_v2021 | hh_weight_2019_v2021 | hh_weight_2017_2019_v2021 | hh_weight_2021_ABS |\n",
    "| Person | hh_weight_2017* | hh_weight_2019* | hh_weight_2017_2019* | person_adult_weight_2021 |\n",
    "| Trip | trip_weight_2017_v2021* | trip_weight_2019_v2021* | trip_weight_2017_2019_v2021* | trip_weight_2021_ABS_Panel_adult |\n",
    "| Respondent | | | | Apply to articular questions** |\n",
    "\n",
    "Notice there are some adult weights too-- 2021 sample does not contain children, while 2017/2019 does. So to compare trips between 2017/2019 and 2021, need to filter to only adult trips before applying weights. DO NOT COMPARE TRIPS WEIGHTED WITH CHILDREN TO WEIGHTS THAT DO NOT CONSIDER CHILDREN.\n",
    "\n",
    "*: filter to adults only first to compare to 2021\n",
    "\n",
    "**: respondent weights only apply to 2021 sample for\n",
    "- workplace_pre_covid\n",
    "- commute_freq_pre_covid\n",
    "- commute_mode_pre_covid\n",
    "- telecommute_freq_pre_covid\n",
    "- employment_change_employer\n",
    "- employment_change_location\n",
    "- employment_change_new_job\n",
    "- employment_change_laid_off\n",
    "- employment_change_left_workforce\n",
    "- employment_change_none"
   ]
  },
  {
   "cell_type": "code",
   "execution_count": 15,
   "metadata": {},
   "outputs": [
    {
     "data": {
      "text/html": [
       "<div>\n",
       "<style scoped>\n",
       "    .dataframe tbody tr th:only-of-type {\n",
       "        vertical-align: middle;\n",
       "    }\n",
       "\n",
       "    .dataframe tbody tr th {\n",
       "        vertical-align: top;\n",
       "    }\n",
       "\n",
       "    .dataframe thead th {\n",
       "        text-align: right;\n",
       "    }\n",
       "</style>\n",
       "<table border=\"1\" class=\"dataframe\">\n",
       "  <thead>\n",
       "    <tr style=\"text-align: right;\">\n",
       "      <th></th>\n",
       "      <th>trip_weight_2021_ABS_Panel_adul</th>\n",
       "      <th>trip_weight_2021_ABS_Panel_resp</th>\n",
       "      <th>trip_weight_2017_v2021</th>\n",
       "      <th>trip_weight_2019_v2021</th>\n",
       "      <th>trip_weight_2017_2019_v2021</th>\n",
       "      <th>trip_weight_2017_2019_v2021_adu</th>\n",
       "    </tr>\n",
       "  </thead>\n",
       "  <tbody>\n",
       "    <tr>\n",
       "      <th>0</th>\n",
       "      <td>665.450454</td>\n",
       "      <td>0.000000</td>\n",
       "      <td>NaN</td>\n",
       "      <td>NaN</td>\n",
       "      <td>NaN</td>\n",
       "      <td>NaN</td>\n",
       "    </tr>\n",
       "    <tr>\n",
       "      <th>1</th>\n",
       "      <td>665.450454</td>\n",
       "      <td>0.000000</td>\n",
       "      <td>NaN</td>\n",
       "      <td>NaN</td>\n",
       "      <td>NaN</td>\n",
       "      <td>NaN</td>\n",
       "    </tr>\n",
       "    <tr>\n",
       "      <th>2</th>\n",
       "      <td>80.162855</td>\n",
       "      <td>81.053177</td>\n",
       "      <td>NaN</td>\n",
       "      <td>NaN</td>\n",
       "      <td>NaN</td>\n",
       "      <td>NaN</td>\n",
       "    </tr>\n",
       "    <tr>\n",
       "      <th>3</th>\n",
       "      <td>80.162855</td>\n",
       "      <td>81.053177</td>\n",
       "      <td>NaN</td>\n",
       "      <td>NaN</td>\n",
       "      <td>NaN</td>\n",
       "      <td>NaN</td>\n",
       "    </tr>\n",
       "    <tr>\n",
       "      <th>4</th>\n",
       "      <td>109.823112</td>\n",
       "      <td>111.042852</td>\n",
       "      <td>NaN</td>\n",
       "      <td>NaN</td>\n",
       "      <td>NaN</td>\n",
       "      <td>NaN</td>\n",
       "    </tr>\n",
       "    <tr>\n",
       "      <th>...</th>\n",
       "      <td>...</td>\n",
       "      <td>...</td>\n",
       "      <td>...</td>\n",
       "      <td>...</td>\n",
       "      <td>...</td>\n",
       "      <td>...</td>\n",
       "    </tr>\n",
       "    <tr>\n",
       "      <th>136072</th>\n",
       "      <td>NaN</td>\n",
       "      <td>NaN</td>\n",
       "      <td>NaN</td>\n",
       "      <td>12.224092</td>\n",
       "      <td>6.112046</td>\n",
       "      <td>NaN</td>\n",
       "    </tr>\n",
       "    <tr>\n",
       "      <th>136073</th>\n",
       "      <td>NaN</td>\n",
       "      <td>NaN</td>\n",
       "      <td>NaN</td>\n",
       "      <td>12.224092</td>\n",
       "      <td>6.112046</td>\n",
       "      <td>NaN</td>\n",
       "    </tr>\n",
       "    <tr>\n",
       "      <th>136074</th>\n",
       "      <td>NaN</td>\n",
       "      <td>NaN</td>\n",
       "      <td>NaN</td>\n",
       "      <td>12.224092</td>\n",
       "      <td>6.112046</td>\n",
       "      <td>NaN</td>\n",
       "    </tr>\n",
       "    <tr>\n",
       "      <th>136075</th>\n",
       "      <td>NaN</td>\n",
       "      <td>NaN</td>\n",
       "      <td>NaN</td>\n",
       "      <td>12.224092</td>\n",
       "      <td>6.112046</td>\n",
       "      <td>NaN</td>\n",
       "    </tr>\n",
       "    <tr>\n",
       "      <th>136076</th>\n",
       "      <td>NaN</td>\n",
       "      <td>NaN</td>\n",
       "      <td>NaN</td>\n",
       "      <td>12.224092</td>\n",
       "      <td>6.112046</td>\n",
       "      <td>NaN</td>\n",
       "    </tr>\n",
       "  </tbody>\n",
       "</table>\n",
       "<p>110247 rows × 6 columns</p>\n",
       "</div>"
      ],
      "text/plain": [
       "        trip_weight_2021_ABS_Panel_adul  trip_weight_2021_ABS_Panel_resp  \\\n",
       "0                            665.450454                         0.000000   \n",
       "1                            665.450454                         0.000000   \n",
       "2                             80.162855                        81.053177   \n",
       "3                             80.162855                        81.053177   \n",
       "4                            109.823112                       111.042852   \n",
       "...                                 ...                              ...   \n",
       "136072                              NaN                              NaN   \n",
       "136073                              NaN                              NaN   \n",
       "136074                              NaN                              NaN   \n",
       "136075                              NaN                              NaN   \n",
       "136076                              NaN                              NaN   \n",
       "\n",
       "        trip_weight_2017_v2021  trip_weight_2019_v2021  \\\n",
       "0                          NaN                     NaN   \n",
       "1                          NaN                     NaN   \n",
       "2                          NaN                     NaN   \n",
       "3                          NaN                     NaN   \n",
       "4                          NaN                     NaN   \n",
       "...                        ...                     ...   \n",
       "136072                     NaN               12.224092   \n",
       "136073                     NaN               12.224092   \n",
       "136074                     NaN               12.224092   \n",
       "136075                     NaN               12.224092   \n",
       "136076                     NaN               12.224092   \n",
       "\n",
       "        trip_weight_2017_2019_v2021  trip_weight_2017_2019_v2021_adu  \n",
       "0                               NaN                              NaN  \n",
       "1                               NaN                              NaN  \n",
       "2                               NaN                              NaN  \n",
       "3                               NaN                              NaN  \n",
       "4                               NaN                              NaN  \n",
       "...                             ...                              ...  \n",
       "136072                     6.112046                              NaN  \n",
       "136073                     6.112046                              NaN  \n",
       "136074                     6.112046                              NaN  \n",
       "136075                     6.112046                              NaN  \n",
       "136076                     6.112046                              NaN  \n",
       "\n",
       "[110247 rows x 6 columns]"
      ]
     },
     "execution_count": 15,
     "metadata": {},
     "output_type": "execute_result"
    }
   ],
   "source": [
    "# notice that person, household, and trip dfs all have survey weights\n",
    "trips_clean.iloc[:, -8:-2]"
   ]
  },
  {
   "cell_type": "code",
   "execution_count": 16,
   "metadata": {},
   "outputs": [
    {
     "data": {
      "text/plain": [
       "Text(0.5, 1.0, 'Distribution of Travel Times in 2017, Weight Comparison')"
      ]
     },
     "execution_count": 16,
     "metadata": {},
     "output_type": "execute_result"
    },
    {
     "data": {
      "image/png": "[encoded data removed]",
      "text/plain": [
       "<Figure size 432x288 with 1 Axes>"
      ]
     },
     "metadata": {
      "needs_background": "light"
     },
     "output_type": "display_data"
    }
   ],
   "source": [
    "# so, how do we apply weights?\n",
    "# visually\n",
    "sns.kdeplot(trips_clean[trips_clean.survey_year ==2017].travel_time_calc, label=\"Unweighted\")\n",
    "sns.kdeplot(trips_clean[trips_clean.survey_year ==2017].travel_time_calc, weights=trips_clean.trip_weight_2017_v2021, label=\"Weighted\")\n",
    "plt.xlim(-10, 120)\n",
    "plt.legend()\n",
    "plt.title(\"Distribution of Travel Times in 2017, Weight Comparison\")"
   ]
  },
  {
   "cell_type": "code",
   "execution_count": 17,
   "metadata": {},
   "outputs": [
    {
     "data": {
      "text/plain": [
       "<matplotlib.legend.Legend at 0x7fb22c081d00>"
      ]
     },
     "execution_count": 17,
     "metadata": {},
     "output_type": "execute_result"
    },
    {
     "data": {
      "image/png": "[encoded data removed]",
      "text/plain": [
       "<Figure size 432x288 with 1 Axes>"
      ]
     },
     "metadata": {
      "needs_background": "light"
     },
     "output_type": "display_data"
    }
   ],
   "source": [
    "# now, with weights, we can compare trips between years\n",
    "\n",
    "# filter 2017/2019 to be adult only\n",
    "trips_clean_adults = trips_clean[(trips_clean.age != \"Under 5 years old\") | (trips_clean.age != \"5-11 years\") | \n",
    "                                 (trips_clean.age != \"12-15 years\") | (trips_clean.age != \"16-17 years\")]\n",
    "\n",
    "# now we can compare weighted trips across years\n",
    "sns.kdeplot(trips_clean_adults[trips_clean_adults.survey_year ==2017].travel_time_calc, weights=trips_clean_adults.trip_weight_2017_v2021, label=\"2017\")\n",
    "sns.kdeplot(trips_clean_adults[trips_clean_adults.survey_year ==2019].travel_time_calc, weights=trips_clean_adults.trip_weight_2019_v2021, label=\"2019\")\n",
    "sns.kdeplot(trips_clean_adults[trips_clean_adults.survey_year ==2021].travel_time_calc, weights=trips_clean_adults.trip_weight_2021_ABS_Panel_adul, label=\"2021\")\n",
    "plt.legend()"
   ]
  },
  {
   "cell_type": "code",
   "execution_count": 18,
   "metadata": {},
   "outputs": [
    {
     "data": {
      "text/plain": [
       "{'mean': 21.28245727349073,\n",
       " 'std': 17.600862721370405,\n",
       " '25th percentile': 10.0,\n",
       " '50th percentile': 15.0,\n",
       " '75th percentile': 30.0,\n",
       " 'min': 0.0,\n",
       " 'max': 119.0}"
      ]
     },
     "execution_count": 18,
     "metadata": {},
     "output_type": "execute_result"
    }
   ],
   "source": [
    "# weighted descriptive statistics\n",
    "trips_clean_2017 = trips_clean[trips_clean.survey_year == 2017]\n",
    "\n",
    "# from statsmodels\n",
    "ws_tt = DescrStatsW(trips_clean_2017.travel_time_calc, weights=trips_clean_2017.trip_weight_2017_v2021)\n",
    "quantiles = ws_tt.quantile(probs=np.array([0.25,0.5,0.75]), return_pandas=False)\n",
    "desc_stats = {\"mean\": ws_tt.mean, \"std\": ws_tt.std, \"25th percentile\": quantiles[0],\n",
    "              \"50th percentile\": quantiles[1], \"75th percentile\": quantiles[2],\n",
    "              \"min\": trips_clean_2017.travel_time_calc.min(), \"max\": trips_clean_2017.travel_time_calc.max()}\n",
    "desc_stats "
   ]
  },
  {
   "cell_type": "markdown",
   "metadata": {},
   "source": [
    "# Step 4: Mobility metrics\n",
    "Let's calculate some metrics on the daily, person level\n",
    "- number of trips\n",
    "- VMT\n",
    "- person miles traveled\n",
    "- trip chains\n"
   ]
  },
  {
   "cell_type": "code",
   "execution_count": 19,
   "metadata": {},
   "outputs": [
    {
     "data": {
      "text/html": [
       "<div>\n",
       "<style scoped>\n",
       "    .dataframe tbody tr th:only-of-type {\n",
       "        vertical-align: middle;\n",
       "    }\n",
       "\n",
       "    .dataframe tbody tr th {\n",
       "        vertical-align: top;\n",
       "    }\n",
       "\n",
       "    .dataframe thead th {\n",
       "        text-align: right;\n",
       "    }\n",
       "</style>\n",
       "<table border=\"1\" class=\"dataframe\">\n",
       "  <thead>\n",
       "    <tr style=\"text-align: right;\">\n",
       "      <th></th>\n",
       "      <th>person_dim_id</th>\n",
       "      <th>daynum</th>\n",
       "    </tr>\n",
       "  </thead>\n",
       "  <tbody>\n",
       "    <tr>\n",
       "      <th>0</th>\n",
       "      <td>1710000501</td>\n",
       "      <td>1</td>\n",
       "    </tr>\n",
       "    <tr>\n",
       "      <th>1</th>\n",
       "      <td>1710000502</td>\n",
       "      <td>1</td>\n",
       "    </tr>\n",
       "    <tr>\n",
       "      <th>2</th>\n",
       "      <td>1710002401</td>\n",
       "      <td>1</td>\n",
       "    </tr>\n",
       "    <tr>\n",
       "      <th>3</th>\n",
       "      <td>1710002402</td>\n",
       "      <td>1</td>\n",
       "    </tr>\n",
       "    <tr>\n",
       "      <th>4</th>\n",
       "      <td>1710002403</td>\n",
       "      <td>1</td>\n",
       "    </tr>\n",
       "    <tr>\n",
       "      <th>...</th>\n",
       "      <td>...</td>\n",
       "      <td>...</td>\n",
       "    </tr>\n",
       "    <tr>\n",
       "      <th>24667</th>\n",
       "      <td>19201842502</td>\n",
       "      <td>3</td>\n",
       "    </tr>\n",
       "    <tr>\n",
       "      <th>24668</th>\n",
       "      <td>19201842502</td>\n",
       "      <td>4</td>\n",
       "    </tr>\n",
       "    <tr>\n",
       "      <th>24669</th>\n",
       "      <td>19201842502</td>\n",
       "      <td>5</td>\n",
       "    </tr>\n",
       "    <tr>\n",
       "      <th>24670</th>\n",
       "      <td>19201842503</td>\n",
       "      <td>1</td>\n",
       "    </tr>\n",
       "    <tr>\n",
       "      <th>24671</th>\n",
       "      <td>19201842503</td>\n",
       "      <td>2</td>\n",
       "    </tr>\n",
       "  </tbody>\n",
       "</table>\n",
       "<p>24672 rows × 2 columns</p>\n",
       "</div>"
      ],
      "text/plain": [
       "       person_dim_id  daynum\n",
       "0         1710000501       1\n",
       "1         1710000502       1\n",
       "2         1710002401       1\n",
       "3         1710002402       1\n",
       "4         1710002403       1\n",
       "...              ...     ...\n",
       "24667    19201842502       3\n",
       "24668    19201842502       4\n",
       "24669    19201842502       5\n",
       "24670    19201842503       1\n",
       "24671    19201842503       2\n",
       "\n",
       "[24672 rows x 2 columns]"
      ]
     },
     "execution_count": 19,
     "metadata": {},
     "output_type": "execute_result"
    }
   ],
   "source": [
    "# need data for each person each day\n",
    "person_day_df = trips_clean.groupby(['person_dim_id', 'daynum']).size().reset_index()[['person_dim_id', 'daynum']]\n",
    "person_day_df"
   ]
  },
  {
   "cell_type": "code",
   "execution_count": 20,
   "metadata": {},
   "outputs": [],
   "source": [
    "def mobility_metrics(row):\n",
    "    ''' \n",
    "    function that calculates mobility metrics\n",
    "    input: df row\n",
    "    output: pandas series of metrics\n",
    "    '''\n",
    "    # filter to obtain trips that correspond with each person\n",
    "    trips_day_person = trips_clean[(trips_clean.person_dim_id == row.person_dim_id) & (trips_clean.daynum == row.daynum)]\n",
    "\n",
    "    # number of trips\n",
    "    num_trips = len(trips_day_person)\n",
    "\n",
    "    # person miles traveled\n",
    "    pmt = trips_day_person.trip_path_distance.sum()\n",
    "\n",
    "    # vehicle miles traveled\n",
    "    vmt = trips_day_person.loc[trips_day_person['mode_simple'] == 'Drive', 'trip_path_distance'].sum()\n",
    "\n",
    "    # trip chains\n",
    "    trip_chains = 0\n",
    "    start_home = False\n",
    "    for idx, row in trips_day_person.iterrows():\n",
    "        if row.origin_purpose == \"Went home\":\n",
    "            start_home = True\n",
    "        if (row.dest_purpose != \"Went home\") and start_home: # person continues their trip chain\n",
    "            continue\n",
    "        elif (row.dest_purpose == \"Went home\") and (row.origin_purpose == \"Went home\"): # home-home trip, not counted as a trip chain\n",
    "            continue\n",
    "        elif (row.dest_purpose == \"Went home\") and start_home: # end of the trip chain\n",
    "            trip_chains += 1\n",
    "            start_home = False # reset flag\n",
    "    \n",
    "    return pd.Series([num_trips, pmt, vmt, trip_chains])\n"
   ]
  },
  {
   "cell_type": "code",
   "execution_count": 21,
   "metadata": {},
   "outputs": [
    {
     "data": {
      "text/html": [
       "<div>\n",
       "<style scoped>\n",
       "    .dataframe tbody tr th:only-of-type {\n",
       "        vertical-align: middle;\n",
       "    }\n",
       "\n",
       "    .dataframe tbody tr th {\n",
       "        vertical-align: top;\n",
       "    }\n",
       "\n",
       "    .dataframe thead th {\n",
       "        text-align: right;\n",
       "    }\n",
       "</style>\n",
       "<table border=\"1\" class=\"dataframe\">\n",
       "  <thead>\n",
       "    <tr style=\"text-align: right;\">\n",
       "      <th></th>\n",
       "      <th>person_dim_id</th>\n",
       "      <th>daynum</th>\n",
       "      <th>num_trips</th>\n",
       "      <th>pmt</th>\n",
       "      <th>vmt</th>\n",
       "      <th>trip_chains</th>\n",
       "    </tr>\n",
       "  </thead>\n",
       "  <tbody>\n",
       "    <tr>\n",
       "      <th>0</th>\n",
       "      <td>1710000501</td>\n",
       "      <td>1</td>\n",
       "      <td>5.0</td>\n",
       "      <td>22.857132</td>\n",
       "      <td>22.857132</td>\n",
       "      <td>2.0</td>\n",
       "    </tr>\n",
       "    <tr>\n",
       "      <th>1</th>\n",
       "      <td>1710000502</td>\n",
       "      <td>1</td>\n",
       "      <td>3.0</td>\n",
       "      <td>6.685952</td>\n",
       "      <td>6.685952</td>\n",
       "      <td>1.0</td>\n",
       "    </tr>\n",
       "    <tr>\n",
       "      <th>2</th>\n",
       "      <td>1710002401</td>\n",
       "      <td>1</td>\n",
       "      <td>8.0</td>\n",
       "      <td>9.758632</td>\n",
       "      <td>6.618844</td>\n",
       "      <td>4.0</td>\n",
       "    </tr>\n",
       "    <tr>\n",
       "      <th>3</th>\n",
       "      <td>1710002402</td>\n",
       "      <td>1</td>\n",
       "      <td>4.0</td>\n",
       "      <td>4.642263</td>\n",
       "      <td>1.690129</td>\n",
       "      <td>2.0</td>\n",
       "    </tr>\n",
       "    <tr>\n",
       "      <th>4</th>\n",
       "      <td>1710002403</td>\n",
       "      <td>1</td>\n",
       "      <td>2.0</td>\n",
       "      <td>1.722440</td>\n",
       "      <td>0.799083</td>\n",
       "      <td>1.0</td>\n",
       "    </tr>\n",
       "    <tr>\n",
       "      <th>...</th>\n",
       "      <td>...</td>\n",
       "      <td>...</td>\n",
       "      <td>...</td>\n",
       "      <td>...</td>\n",
       "      <td>...</td>\n",
       "      <td>...</td>\n",
       "    </tr>\n",
       "    <tr>\n",
       "      <th>24667</th>\n",
       "      <td>19201842502</td>\n",
       "      <td>3</td>\n",
       "      <td>5.0</td>\n",
       "      <td>23.004820</td>\n",
       "      <td>22.557380</td>\n",
       "      <td>1.0</td>\n",
       "    </tr>\n",
       "    <tr>\n",
       "      <th>24668</th>\n",
       "      <td>19201842502</td>\n",
       "      <td>4</td>\n",
       "      <td>4.0</td>\n",
       "      <td>22.866480</td>\n",
       "      <td>22.425730</td>\n",
       "      <td>1.0</td>\n",
       "    </tr>\n",
       "    <tr>\n",
       "      <th>24669</th>\n",
       "      <td>19201842502</td>\n",
       "      <td>5</td>\n",
       "      <td>2.0</td>\n",
       "      <td>3.142820</td>\n",
       "      <td>3.142820</td>\n",
       "      <td>1.0</td>\n",
       "    </tr>\n",
       "    <tr>\n",
       "      <th>24670</th>\n",
       "      <td>19201842503</td>\n",
       "      <td>1</td>\n",
       "      <td>3.0</td>\n",
       "      <td>12.906050</td>\n",
       "      <td>12.906050</td>\n",
       "      <td>1.0</td>\n",
       "    </tr>\n",
       "    <tr>\n",
       "      <th>24671</th>\n",
       "      <td>19201842503</td>\n",
       "      <td>2</td>\n",
       "      <td>4.0</td>\n",
       "      <td>14.524190</td>\n",
       "      <td>14.524190</td>\n",
       "      <td>2.0</td>\n",
       "    </tr>\n",
       "  </tbody>\n",
       "</table>\n",
       "<p>24672 rows × 6 columns</p>\n",
       "</div>"
      ],
      "text/plain": [
       "       person_dim_id  daynum  num_trips        pmt        vmt  trip_chains\n",
       "0         1710000501       1        5.0  22.857132  22.857132          2.0\n",
       "1         1710000502       1        3.0   6.685952   6.685952          1.0\n",
       "2         1710002401       1        8.0   9.758632   6.618844          4.0\n",
       "3         1710002402       1        4.0   4.642263   1.690129          2.0\n",
       "4         1710002403       1        2.0   1.722440   0.799083          1.0\n",
       "...              ...     ...        ...        ...        ...          ...\n",
       "24667    19201842502       3        5.0  23.004820  22.557380          1.0\n",
       "24668    19201842502       4        4.0  22.866480  22.425730          1.0\n",
       "24669    19201842502       5        2.0   3.142820   3.142820          1.0\n",
       "24670    19201842503       1        3.0  12.906050  12.906050          1.0\n",
       "24671    19201842503       2        4.0  14.524190  14.524190          2.0\n",
       "\n",
       "[24672 rows x 6 columns]"
      ]
     },
     "execution_count": 21,
     "metadata": {},
     "output_type": "execute_result"
    }
   ],
   "source": [
    "person_day_df[['num_trips', 'pmt', 'vmt', 'trip_chains']] = person_day_df.apply(mobility_metrics, axis=1)\n",
    "person_day_df"
   ]
  },
  {
   "cell_type": "code",
   "execution_count": 22,
   "metadata": {},
   "outputs": [
    {
     "data": {
      "image/png": "[encoded data removed]",
      "text/plain": [
       "<Figure size 432x288 with 1 Axes>"
      ]
     },
     "metadata": {
      "needs_background": "light"
     },
     "output_type": "display_data"
    },
    {
     "data": {
      "image/png": "[encoded data removed]",
      "text/plain": [
       "<Figure size 432x288 with 1 Axes>"
      ]
     },
     "metadata": {
      "needs_background": "light"
     },
     "output_type": "display_data"
    }
   ],
   "source": [
    "# visualize VMT-- let's not use weights here since it gets a little tricky since\n",
    "# we're at both the person and trip level\n",
    "plt.hist(person_day_df.vmt)\n",
    "plt.show()\n",
    "\n",
    "# still looks like there's an outlier...let's drop it\n",
    "person_day_df_clean = person_day_df[person_day_df.vmt < 500]\n",
    "plt.hist(person_day_df_clean.vmt, bins=100)\n",
    "plt.xlim(0, 100)\n",
    "plt.xlabel(\"Vehicle Miles Traveled\")\n",
    "plt.ylabel(\"Count\")\n",
    "plt.show()"
   ]
  },
  {
   "cell_type": "code",
   "execution_count": 23,
   "metadata": {},
   "outputs": [
    {
     "data": {
      "text/plain": [
       "{'whiskers': [<matplotlib.lines.Line2D at 0x7fb22c1aa0d0>,\n",
       "  <matplotlib.lines.Line2D at 0x7fb22c1a88e0>],\n",
       " 'caps': [<matplotlib.lines.Line2D at 0x7fb22c1a8e50>,\n",
       "  <matplotlib.lines.Line2D at 0x7fb22c1a8b50>],\n",
       " 'boxes': [<matplotlib.lines.Line2D at 0x7fb22c1aa6a0>],\n",
       " 'medians': [<matplotlib.lines.Line2D at 0x7fb22c1a8430>],\n",
       " 'fliers': [<matplotlib.lines.Line2D at 0x7fb22c1a8760>],\n",
       " 'means': []}"
      ]
     },
     "execution_count": 23,
     "metadata": {},
     "output_type": "execute_result"
    },
    {
     "data": {
      "image/png": "[encoded data removed]",
      "text/plain": [
       "<Figure size 432x288 with 1 Axes>"
      ]
     },
     "metadata": {
      "needs_background": "light"
     },
     "output_type": "display_data"
    }
   ],
   "source": [
    "# what about vmt by gender?\n",
    "# merge person data with person_day_df\n",
    "person_day_df_clean = person_day_df_clean.merge(persons[[\"person_id\", \"gender\"]], left_on='person_dim_id', \n",
    "                                                right_on=\"person_id\", how='left')"
   ]
  },
  {
   "cell_type": "code",
   "execution_count": 42,
   "metadata": {},
   "outputs": [
    {
     "name": "stdout",
     "output_type": "stream",
     "text": [
      "Female mean VMT: 15.983421705421357 \n",
      "Male mean VMT: 15.666777776732333\n"
     ]
    },
    {
     "data": {
      "image/png": "[encoded data removed]",
      "text/plain": [
       "<Figure size 432x288 with 1 Axes>"
      ]
     },
     "metadata": {
      "needs_background": "light"
     },
     "output_type": "display_data"
    }
   ],
   "source": [
    "# let's drop some outliers\n",
    "person_day_df_clean = person_day_df_clean[person_day_df_clean.vmt < 100]\n",
    "\n",
    "# let's split up by gender\n",
    "person_day_df_clean_fem = person_day_df_clean[person_day_df_clean[\"gender\"] == \"Female\"]\n",
    "person_day_df_clean_nonfem = person_day_df_clean[person_day_df_clean[\"gender\"] != \"Female\"]\n",
    "\n",
    "sns.boxplot(data=[person_day_df_clean_fem.vmt, person_day_df_clean_nonfem.vmt])\n",
    "plt.xticks(ticks=[0,1], labels=[\"Female\", \"Non-female\"])\n",
    "\n",
    "print(\"Female mean VMT:\", person_day_df_clean_fem.vmt.mean(), \"\\nMale mean VMT:\", person_day_df_clean_nonfem.vmt.mean())\n",
    "# can perform t-test to determine significance"
   ]
  },
  {
   "cell_type": "markdown",
   "metadata": {},
   "source": [
    "# Bonus: O/D data + mapping\n",
    "We can also use O/D data collected from the online survey to calculate some more spatial metrics, such as radius of gyration (activity space).\n",
    "\n",
    "However, we need to clean this data too!"
   ]
  },
  {
   "cell_type": "code",
   "execution_count": 24,
   "metadata": {},
   "outputs": [],
   "source": [
    "# filter out trips outside WA\n",
    "def are_points_inside_washington(origin_lat, origin_lng, dest_lat, dest_lng):\n",
    "    washington_bbox = {\n",
    "    'lat_min': 45.5435,\n",
    "    'lat_max': 49.0025,\n",
    "    'lon_min': -124.848974,\n",
    "    'lon_max': -116.916197\n",
    "    }\n",
    "    return (washington_bbox['lat_min'] <= origin_lat <= washington_bbox['lat_max']) and \\\n",
    "           (washington_bbox['lon_min'] <= origin_lng <= washington_bbox['lon_max']) and \\\n",
    "           (washington_bbox['lat_min'] <= dest_lat <= washington_bbox['lat_max']) and \\\n",
    "           (washington_bbox['lon_min'] <= dest_lng <= washington_bbox['lon_max'])"
   ]
  },
  {
   "cell_type": "code",
   "execution_count": 25,
   "metadata": {},
   "outputs": [
    {
     "name": "stderr",
     "output_type": "stream",
     "text": [
      "/Users/kaitlynng/opt/anaconda3/lib/python3.9/site-packages/pyproj/crs/crs.py:141: FutureWarning: '+init=<authority>:<code>' syntax is deprecated. '<authority>:<code>' is the preferred initialization method. When making the change, be mindful of axis order changes: https://pyproj4.github.io/pyproj/stable/gotchas.html#axis-order-changes-in-proj-6\n",
      "  in_crs_string = _prepare_from_proj_string(in_crs_string)\n"
     ]
    }
   ],
   "source": [
    "# create gdf for O/D trips\n",
    "gdf_od = gpd.GeoDataFrame(od, geometry=gpd.points_from_xy(od['origin_lng'], od['origin_lat']), crs={'init':'EPSG:4326'})\n",
    "\n",
    "# get rid of nas\n",
    "gdf_od = gdf_od.dropna(subset=['origin_lng', 'origin_lat', 'dest_lng', 'dest_lat'])\n",
    "\n",
    "# limit data to washington state\n",
    "gdf_od['Both_Points_Inside_Washington'] = gdf_od.apply(lambda row: are_points_inside_washington(row['origin_lat'],\n",
    "                                                                                         row['origin_lng'],\n",
    "                                                                                         row['dest_lat'],\n",
    "                                                                                         row['dest_lng']), axis=1)\n",
    "gdf_od = gdf_od[gdf_od.Both_Points_Inside_Washington == True]"
   ]
  },
  {
   "cell_type": "code",
   "execution_count": 26,
   "metadata": {},
   "outputs": [
    {
     "name": "stderr",
     "output_type": "stream",
     "text": [
      "/Users/kaitlynng/opt/anaconda3/lib/python3.9/site-packages/pyproj/crs/crs.py:141: FutureWarning: '+init=<authority>:<code>' syntax is deprecated. '<authority>:<code>' is the preferred initialization method. When making the change, be mindful of axis order changes: https://pyproj4.github.io/pyproj/stable/gotchas.html#axis-order-changes-in-proj-6\n",
      "  in_crs_string = _prepare_from_proj_string(in_crs_string)\n"
     ]
    }
   ],
   "source": [
    "# load in washington state counties\n",
    "counties_url = \"https://gisdata.kingcounty.gov/arcgis/rest/services/OpenDataPortal/politicl___base/MapServer/122/query?outFields=*&where=1%3D1&f=geojson\"\n",
    "response = requests.get(counties_url)\n",
    "data = response.json()\n",
    "gdf_counties = gpd.GeoDataFrame.from_features(data['features'], crs={'init':'EPSG:4326'})\n",
    "\n",
    "# adjust crs\n",
    "gdf_counties = gdf_counties.to_crs(epsg=4326)"
   ]
  },
  {
   "cell_type": "code",
   "execution_count": 27,
   "metadata": {},
   "outputs": [
    {
     "name": "stderr",
     "output_type": "stream",
     "text": [
      "/Users/kaitlynng/opt/anaconda3/lib/python3.9/site-packages/geopandas/plotting.py:51: ShapelyDeprecationWarning: The 'type' attribute is deprecated, and will be removed in the future. You can use the 'geom_type' attribute instead.\n",
      "  if geom is not None and geom.type.startswith(prefix) and not geom.is_empty:\n",
      "/var/folders/mg/5x982c514sl0dc5v1pd9gj580000gn/T/ipykernel_3095/3251347616.py:5: UserWarning: Matplotlib is currently using module://matplotlib_inline.backend_inline, which is a non-GUI backend, so cannot show the figure.\n",
      "  fig.show()\n"
     ]
    },
    {
     "data": {
      "image/png": "[encoded data removed]",
      "text/plain": [
       "<Figure size 720x720 with 1 Axes>"
      ]
     },
     "metadata": {
      "needs_background": "light"
     },
     "output_type": "display_data"
    }
   ],
   "source": [
    "# plot\n",
    "fig, ax = plt.subplots(figsize=(10,10))\n",
    "gdf_counties.plot(ax=ax)\n",
    "gdf_od.plot(ax=ax, color='red', markersize=0.5)\n",
    "fig.show()"
   ]
  },
  {
   "cell_type": "markdown",
   "metadata": {},
   "source": [
    "Now, we can calculate radius of gyration."
   ]
  },
  {
   "cell_type": "code",
   "execution_count": 28,
   "metadata": {},
   "outputs": [],
   "source": [
    "# merge trip and o/d data\n",
    "trips_od = pd.merge(trips_clean, od, on=[\"trip_id\", \"household_id\"], how=\"left\")"
   ]
  },
  {
   "cell_type": "code",
   "execution_count": 29,
   "metadata": {},
   "outputs": [],
   "source": [
    "def rog(points, centroid):\n",
    "    '''\n",
    "    this function is calculates rog given unique points\n",
    "    points: list of points; centroid: (x,y)\n",
    "    returns radius of gyration\n",
    "    '''\n",
    "    d_i = [geopy.distance.geodesic(points[p], (centroid[1], centroid[0])).miles for p in range(len(points))]\n",
    "    n = len(d_i)\n",
    "    sum_di = 0\n",
    "    for i in range(n):\n",
    "        sum_di += d_i[i]**2\n",
    "    rog = math.sqrt(sum_di/n)\n",
    "     \n",
    "    return rog"
   ]
  },
  {
   "cell_type": "code",
   "execution_count": 30,
   "metadata": {},
   "outputs": [],
   "source": [
    "def rog_centroid_df(row):\n",
    "    '''\n",
    "    this function calculates the radius of gyration (ROG) for each person, using UNIQUE points\n",
    "    person_od_df: df with all trips made by a single individual\n",
    "    return rog_centroid, rog_home: ROG based around centroid, ROG based around home \n",
    "    '''\n",
    "    # filter df by personid\n",
    "    person_trips_df = trips_od[trips_od.person_dim_id == row.person_id]\n",
    "\n",
    "    # get uique points\n",
    "    unique_lat = set()\n",
    "    unique_lng = set()\n",
    "    unique_pts = set()\n",
    "    for idx, row in person_trips_df.iterrows():\n",
    "        olat = round(row.origin_lat, 3)\n",
    "        olng = round(row.origin_lng, 3)\n",
    "        dlat = round(row.dest_lat, 3)\n",
    "        dlng = round(row.dest_lng, 3)\n",
    "        unique_lat.add(olat)\n",
    "        unique_lat.add(dlat)\n",
    "        unique_lng.add(olng)\n",
    "        unique_lng.add(dlng)\n",
    "        unique_pts.add((olat, olng))\n",
    "        unique_pts.add((dlat, dlng))\n",
    "    # calculate centroid lat/lon\n",
    "    centroid = (np.mean(list(unique_lng)), np.mean(list(unique_lat)))\n",
    "    \n",
    "    try:\n",
    "        # calculate ROG around centroid\n",
    "        rog_centroid = rog(list(unique_pts), centroid)\n",
    "        return rog_centroid\n",
    "    except:\n",
    "        return None"
   ]
  },
  {
   "cell_type": "code",
   "execution_count": 31,
   "metadata": {},
   "outputs": [
    {
     "name": "stderr",
     "output_type": "stream",
     "text": [
      "/Users/kaitlynng/opt/anaconda3/lib/python3.9/site-packages/numpy/core/fromnumeric.py:3440: RuntimeWarning: Mean of empty slice.\n",
      "  return _methods._mean(a, axis=axis, dtype=dtype,\n",
      "/Users/kaitlynng/opt/anaconda3/lib/python3.9/site-packages/numpy/core/_methods.py:189: RuntimeWarning: invalid value encountered in double_scalars\n",
      "  ret = ret.dtype.type(ret / rcount)\n"
     ]
    }
   ],
   "source": [
    "persons[\"rog\"] = persons.apply(rog_centroid_df, axis=1)"
   ]
  },
  {
   "cell_type": "markdown",
   "metadata": {},
   "source": [
    "Trace data is also available for 2017 data (and for 2019, though we do not have that data from PSRC). See more examples of trace data with Minda & Jaime's work from the summer."
   ]
  }
 ],
 "metadata": {
  "kernelspec": {
   "display_name": "Python 3 (ipykernel)",
   "language": "python",
   "name": "python3"
  },
  "language_info": {
   "codemirror_mode": {
    "name": "ipython",
    "version": 3
   },
   "file_extension": ".py",
   "mimetype": "text/x-python",
   "name": "python",
   "nbconvert_exporter": "python",
   "pygments_lexer": "ipython3",
   "version": "3.9.12"
  }
 },
 "nbformat": 4,
 "nbformat_minor": 2
}
